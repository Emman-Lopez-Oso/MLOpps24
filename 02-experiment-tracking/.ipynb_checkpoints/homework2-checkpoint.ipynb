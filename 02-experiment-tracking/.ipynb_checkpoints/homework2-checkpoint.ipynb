{
 "cells": [
  {
   "cell_type": "markdown",
   "id": "bc8d1544-2123-4d78-a442-d1f7393e1efc",
   "metadata": {},
   "source": [
    "Classicly, it was simply adding a `/` at the end which fixed the bug -___- "
   ]
  },
  {
   "cell_type": "code",
   "execution_count": 18,
   "id": "f099081d-d2a7-4116-8738-d1f16c904f2c",
   "metadata": {},
   "outputs": [
    {
     "data": {
      "text/plain": [
       "<Experiment: artifact_location='/workspaces/MLOpps24/02-experiment-tracking/mlruns/1', creation_time=1717003124647, experiment_id='1', last_update_time=1717003124647, lifecycle_stage='active', name='nyc-taxi-experiment', tags={}>"
      ]
     },
     "execution_count": 18,
     "metadata": {},
     "output_type": "execute_result"
    }
   ],
   "source": [
    "import mlflow\n",
    "\n",
    "mlflow.set_tracking_uri(\"sqlite:///mlflow.db\")\n",
    "mlflow.set_experiment(\"nyc-taxi-experiment\")"
   ]
  },
  {
   "cell_type": "code",
   "execution_count": 16,
   "id": "ffd2e9df-2074-4aff-b167-4cfa2be6a430",
   "metadata": {},
   "outputs": [],
   "source": [
    "!python scripts/preprocess_data.py --raw_data_path /workspaces/MLOpps24/02-experiment-tracking/TAXI-DATA-FOLDER/ --dest_path ./output"
   ]
  },
  {
   "cell_type": "markdown",
   "id": "fc1a2edb-c33d-4740-83e1-8caf987ad443",
   "metadata": {},
   "source": [
    "# Q3 Train a model with autolog\n",
    "\n",
    "We will train a RandomForestRegressor (from Scikit-Learn) on the taxi dataset.\n",
    "\n",
    "We have prepared the training script `train.py` for this exercise, which can be also found in the folder homework.\n",
    "\n",
    "The script will:\n",
    "\n",
    "    * load the datasets produced by the previous step,\n",
    "    * train the model on the training set,\n",
    "    * calculate the RMSE score on the validation set.\n",
    "\n",
    "Your task is to modify the script to enable autologging with MLflow, execute the script and then launch the MLflow UI to check that the experiment run was properly tracked.\n",
    "\n",
    "Tip 1: don't forget to wrap the training code with a with mlflow.start_run(): statement as we showed in the videos.\n",
    "\n",
    "Tip 2: don't modify the hyperparameters of the model to make sure that the training will finish quickly.\n",
    "\n",
    "What is the value of the min_samples_split parameter:\n",
    "\n",
    "    * 2\n",
    "    * 4\n",
    "    * 8\n",
    "    * 10\n",
    "\n",
    "\n"
   ]
  },
  {
   "cell_type": "code",
   "execution_count": 28,
   "id": "88e23397-ae97-43ee-bb35-0408064b0e94",
   "metadata": {},
   "outputs": [
    {
     "name": "stdout",
     "output_type": "stream",
     "text": [
      "2024/05/29 18:35:26 WARNING mlflow.sklearn: Failed to log training dataset information to MLflow Tracking. Reason: 'numpy.ndarray' object has no attribute 'toarray'\n",
      "2024/05/29 18:35:41 WARNING mlflow.utils.autologging_utils: MLflow autologging encountered a warning: \"/usr/local/python/3.10.13/lib/python3.10/site-packages/_distutils_hack/__init__.py:33: UserWarning: Setuptools is replacing distutils.\"\n",
      "/home/codespace/.local/lib/python3.10/site-packages/sklearn/metrics/_regression.py:483: FutureWarning: 'squared' is deprecated in version 1.4 and will be removed in 1.6. To calculate the root mean squared error, use the function'root_mean_squared_error'.\n",
      "  warnings.warn(\n"
     ]
    }
   ],
   "source": [
    "with mlflow.start_run():\n",
    "    !python scripts/train.py --data_path ./output"
   ]
  }
 ],
 "metadata": {
  "kernelspec": {
   "display_name": "Python 3 (ipykernel)",
   "language": "python",
   "name": "python3"
  },
  "language_info": {
   "codemirror_mode": {
    "name": "ipython",
    "version": 3
   },
   "file_extension": ".py",
   "mimetype": "text/x-python",
   "name": "python",
   "nbconvert_exporter": "python",
   "pygments_lexer": "ipython3",
   "version": "3.12.2"
  }
 },
 "nbformat": 4,
 "nbformat_minor": 5
}
