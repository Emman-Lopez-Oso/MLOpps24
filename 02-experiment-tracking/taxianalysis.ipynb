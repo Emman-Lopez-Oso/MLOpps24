{
 "cells": [
  {
   "cell_type": "code",
   "execution_count": 1,
   "metadata": {},
   "outputs": [
    {
     "name": "stdout",
     "output_type": "stream",
     "text": [
      "Python 3.12.3\n"
     ]
    }
   ],
   "source": [
    "!python -V"
   ]
  },
  {
   "cell_type": "code",
   "execution_count": 2,
   "metadata": {},
   "outputs": [],
   "source": [
    "import pandas as pd\n",
    "import numpy as np\n",
    "import pickle"
   ]
  },
  {
   "cell_type": "code",
   "execution_count": 3,
   "metadata": {},
   "outputs": [],
   "source": [
    "import seaborn as sns\n",
    "import matplotlib.pyplot as plt"
   ]
  },
  {
   "cell_type": "code",
   "execution_count": 4,
   "metadata": {},
   "outputs": [],
   "source": [
    "from sklearn.feature_extraction import DictVectorizer\n",
    "from sklearn.linear_model import LinearRegression\n",
    "from sklearn.linear_model import Lasso\n",
    "from sklearn.linear_model import Ridge\n",
    "\n",
    "from sklearn.metrics import mean_squared_error"
   ]
  },
  {
   "cell_type": "code",
   "execution_count": 6,
   "metadata": {},
   "outputs": [
    {
     "name": "stderr",
     "output_type": "stream",
     "text": [
      "2024/06/10 18:02:39 INFO mlflow.tracking.fluent: Experiment with name 'nyc-taxi-experiment' does not exist. Creating a new experiment.\n"
     ]
    },
    {
     "data": {
      "text/plain": [
       "<Experiment: artifact_location='mlflow-artifacts:/235990381873781123', creation_time=1718042559014, experiment_id='235990381873781123', last_update_time=1718042559014, lifecycle_stage='active', name='nyc-taxi-experiment', tags={}>"
      ]
     },
     "execution_count": 6,
     "metadata": {},
     "output_type": "execute_result"
    }
   ],
   "source": [
    "import mlflow\n",
    "\n",
    "mlflow.set_tracking_uri(\"http://127.0.0.1:5000\")\n",
    "mlflow.set_experiment(\"nyc-taxi-experiment\")"
   ]
  },
  {
   "cell_type": "markdown",
   "metadata": {},
   "source": [
    "artifact_location='/workspaces/MLOpps24/02-experiment-tracking/mlruns/1': Provides the artifact location in the MLFlow URI\n"
   ]
  },
  {
   "cell_type": "code",
   "execution_count": 7,
   "metadata": {},
   "outputs": [],
   "source": [
    "df1 = pd.read_parquet(\"https://d37ci6vzurychx.cloudfront.net/trip-data/yellow_tripdata_2023-01.parquet\")\n",
    "df2 = pd.read_parquet(\"https://d37ci6vzurychx.cloudfront.net/trip-data/yellow_tripdata_2023-02.parquet\")"
   ]
  },
  {
   "cell_type": "markdown",
   "metadata": {},
   "source": [
    "## Q1. Downloading the data\n",
    "\n",
    "We'll use the same NYC taxi dataset, but instead of \"Green Taxi Trip Records\", we'll use \"Yellow Taxi Trip Records\".\n",
    "\n",
    "Download the data for January and February 2022.\n",
    "\n",
    "Read the data for January. How many columns are there?"
   ]
  },
  {
   "cell_type": "code",
   "execution_count": 8,
   "metadata": {},
   "outputs": [
    {
     "name": "stdout",
     "output_type": "stream",
     "text": [
      "There are a total of 19 columns.\n"
     ]
    }
   ],
   "source": [
    "print(\"There are a total of\", len(df1.columns),\"columns.\")"
   ]
  },
  {
   "cell_type": "markdown",
   "metadata": {},
   "source": [
    "## Q2. Computing duration\n",
    "\n",
    "Now let's compute the duration variable. It should contain the duration of a ride in minutes.\n",
    "\n",
    "What's the standard deviation of the trips duration in January?\n",
    "\n",
    "    32.59\n",
    "    42.59\n",
    "    52.59\n",
    "    62.59\n",
    "\n",
    "    "
   ]
  },
  {
   "cell_type": "code",
   "execution_count": 9,
   "metadata": {},
   "outputs": [],
   "source": [
    "df1[\"duration\"] = df1[\"tpep_dropoff_datetime\"] - df1['tpep_pickup_datetime']\n",
    "df1.duration = df1.duration.apply(lambda td: td.total_seconds() / 60)\n",
    "df1['PUMonth'] = df1['tpep_pickup_datetime'].dt.month \n"
   ]
  },
  {
   "cell_type": "code",
   "execution_count": 10,
   "metadata": {},
   "outputs": [
    {
     "data": {
      "text/html": [
       "<div>\n",
       "<style scoped>\n",
       "    .dataframe tbody tr th:only-of-type {\n",
       "        vertical-align: middle;\n",
       "    }\n",
       "\n",
       "    .dataframe tbody tr th {\n",
       "        vertical-align: top;\n",
       "    }\n",
       "\n",
       "    .dataframe thead th {\n",
       "        text-align: right;\n",
       "    }\n",
       "</style>\n",
       "<table border=\"1\" class=\"dataframe\">\n",
       "  <thead>\n",
       "    <tr style=\"text-align: right;\">\n",
       "      <th></th>\n",
       "      <th>VendorID</th>\n",
       "      <th>tpep_pickup_datetime</th>\n",
       "      <th>tpep_dropoff_datetime</th>\n",
       "      <th>passenger_count</th>\n",
       "      <th>trip_distance</th>\n",
       "      <th>RatecodeID</th>\n",
       "      <th>store_and_fwd_flag</th>\n",
       "      <th>PULocationID</th>\n",
       "      <th>DOLocationID</th>\n",
       "      <th>payment_type</th>\n",
       "      <th>...</th>\n",
       "      <th>extra</th>\n",
       "      <th>mta_tax</th>\n",
       "      <th>tip_amount</th>\n",
       "      <th>tolls_amount</th>\n",
       "      <th>improvement_surcharge</th>\n",
       "      <th>total_amount</th>\n",
       "      <th>congestion_surcharge</th>\n",
       "      <th>airport_fee</th>\n",
       "      <th>duration</th>\n",
       "      <th>PUMonth</th>\n",
       "    </tr>\n",
       "  </thead>\n",
       "  <tbody>\n",
       "    <tr>\n",
       "      <th>0</th>\n",
       "      <td>2</td>\n",
       "      <td>2023-01-01 00:32:10</td>\n",
       "      <td>2023-01-01 00:40:36</td>\n",
       "      <td>1.0</td>\n",
       "      <td>0.97</td>\n",
       "      <td>1.0</td>\n",
       "      <td>N</td>\n",
       "      <td>161</td>\n",
       "      <td>141</td>\n",
       "      <td>2</td>\n",
       "      <td>...</td>\n",
       "      <td>1.00</td>\n",
       "      <td>0.5</td>\n",
       "      <td>0.00</td>\n",
       "      <td>0.0</td>\n",
       "      <td>1.0</td>\n",
       "      <td>14.30</td>\n",
       "      <td>2.5</td>\n",
       "      <td>0.00</td>\n",
       "      <td>8.433333</td>\n",
       "      <td>1</td>\n",
       "    </tr>\n",
       "    <tr>\n",
       "      <th>1</th>\n",
       "      <td>2</td>\n",
       "      <td>2023-01-01 00:55:08</td>\n",
       "      <td>2023-01-01 01:01:27</td>\n",
       "      <td>1.0</td>\n",
       "      <td>1.10</td>\n",
       "      <td>1.0</td>\n",
       "      <td>N</td>\n",
       "      <td>43</td>\n",
       "      <td>237</td>\n",
       "      <td>1</td>\n",
       "      <td>...</td>\n",
       "      <td>1.00</td>\n",
       "      <td>0.5</td>\n",
       "      <td>4.00</td>\n",
       "      <td>0.0</td>\n",
       "      <td>1.0</td>\n",
       "      <td>16.90</td>\n",
       "      <td>2.5</td>\n",
       "      <td>0.00</td>\n",
       "      <td>6.316667</td>\n",
       "      <td>1</td>\n",
       "    </tr>\n",
       "    <tr>\n",
       "      <th>2</th>\n",
       "      <td>2</td>\n",
       "      <td>2023-01-01 00:25:04</td>\n",
       "      <td>2023-01-01 00:37:49</td>\n",
       "      <td>1.0</td>\n",
       "      <td>2.51</td>\n",
       "      <td>1.0</td>\n",
       "      <td>N</td>\n",
       "      <td>48</td>\n",
       "      <td>238</td>\n",
       "      <td>1</td>\n",
       "      <td>...</td>\n",
       "      <td>1.00</td>\n",
       "      <td>0.5</td>\n",
       "      <td>15.00</td>\n",
       "      <td>0.0</td>\n",
       "      <td>1.0</td>\n",
       "      <td>34.90</td>\n",
       "      <td>2.5</td>\n",
       "      <td>0.00</td>\n",
       "      <td>12.750000</td>\n",
       "      <td>1</td>\n",
       "    </tr>\n",
       "    <tr>\n",
       "      <th>3</th>\n",
       "      <td>1</td>\n",
       "      <td>2023-01-01 00:03:48</td>\n",
       "      <td>2023-01-01 00:13:25</td>\n",
       "      <td>0.0</td>\n",
       "      <td>1.90</td>\n",
       "      <td>1.0</td>\n",
       "      <td>N</td>\n",
       "      <td>138</td>\n",
       "      <td>7</td>\n",
       "      <td>1</td>\n",
       "      <td>...</td>\n",
       "      <td>7.25</td>\n",
       "      <td>0.5</td>\n",
       "      <td>0.00</td>\n",
       "      <td>0.0</td>\n",
       "      <td>1.0</td>\n",
       "      <td>20.85</td>\n",
       "      <td>0.0</td>\n",
       "      <td>1.25</td>\n",
       "      <td>9.616667</td>\n",
       "      <td>1</td>\n",
       "    </tr>\n",
       "    <tr>\n",
       "      <th>4</th>\n",
       "      <td>2</td>\n",
       "      <td>2023-01-01 00:10:29</td>\n",
       "      <td>2023-01-01 00:21:19</td>\n",
       "      <td>1.0</td>\n",
       "      <td>1.43</td>\n",
       "      <td>1.0</td>\n",
       "      <td>N</td>\n",
       "      <td>107</td>\n",
       "      <td>79</td>\n",
       "      <td>1</td>\n",
       "      <td>...</td>\n",
       "      <td>1.00</td>\n",
       "      <td>0.5</td>\n",
       "      <td>3.28</td>\n",
       "      <td>0.0</td>\n",
       "      <td>1.0</td>\n",
       "      <td>19.68</td>\n",
       "      <td>2.5</td>\n",
       "      <td>0.00</td>\n",
       "      <td>10.833333</td>\n",
       "      <td>1</td>\n",
       "    </tr>\n",
       "  </tbody>\n",
       "</table>\n",
       "<p>5 rows × 21 columns</p>\n",
       "</div>"
      ],
      "text/plain": [
       "   VendorID tpep_pickup_datetime tpep_dropoff_datetime  passenger_count  \\\n",
       "0         2  2023-01-01 00:32:10   2023-01-01 00:40:36              1.0   \n",
       "1         2  2023-01-01 00:55:08   2023-01-01 01:01:27              1.0   \n",
       "2         2  2023-01-01 00:25:04   2023-01-01 00:37:49              1.0   \n",
       "3         1  2023-01-01 00:03:48   2023-01-01 00:13:25              0.0   \n",
       "4         2  2023-01-01 00:10:29   2023-01-01 00:21:19              1.0   \n",
       "\n",
       "   trip_distance  RatecodeID store_and_fwd_flag  PULocationID  DOLocationID  \\\n",
       "0           0.97         1.0                  N           161           141   \n",
       "1           1.10         1.0                  N            43           237   \n",
       "2           2.51         1.0                  N            48           238   \n",
       "3           1.90         1.0                  N           138             7   \n",
       "4           1.43         1.0                  N           107            79   \n",
       "\n",
       "   payment_type  ...  extra  mta_tax  tip_amount  tolls_amount  \\\n",
       "0             2  ...   1.00      0.5        0.00           0.0   \n",
       "1             1  ...   1.00      0.5        4.00           0.0   \n",
       "2             1  ...   1.00      0.5       15.00           0.0   \n",
       "3             1  ...   7.25      0.5        0.00           0.0   \n",
       "4             1  ...   1.00      0.5        3.28           0.0   \n",
       "\n",
       "   improvement_surcharge  total_amount  congestion_surcharge  airport_fee  \\\n",
       "0                    1.0         14.30                   2.5         0.00   \n",
       "1                    1.0         16.90                   2.5         0.00   \n",
       "2                    1.0         34.90                   2.5         0.00   \n",
       "3                    1.0         20.85                   0.0         1.25   \n",
       "4                    1.0         19.68                   2.5         0.00   \n",
       "\n",
       "    duration  PUMonth  \n",
       "0   8.433333        1  \n",
       "1   6.316667        1  \n",
       "2  12.750000        1  \n",
       "3   9.616667        1  \n",
       "4  10.833333        1  \n",
       "\n",
       "[5 rows x 21 columns]"
      ]
     },
     "execution_count": 10,
     "metadata": {},
     "output_type": "execute_result"
    }
   ],
   "source": [
    "df1.head()"
   ]
  },
  {
   "cell_type": "code",
   "execution_count": 11,
   "metadata": {},
   "outputs": [
    {
     "name": "stdout",
     "output_type": "stream",
     "text": [
      "The Standard Deviation of Trip Duration is 42.59\n"
     ]
    }
   ],
   "source": [
    "df1 = df1[df1.PUMonth==1]\n",
    "\n",
    "dur_std = df1['duration'].std() \n",
    "\n",
    "print(\"The Standard Deviation of Trip Duration is\", round(dur_std,2) )"
   ]
  },
  {
   "cell_type": "markdown",
   "metadata": {},
   "source": [
    "## Q3. Dropping outliers\n",
    "\n",
    "Next, we need to check the distribution of the duration variable. There are some outliers. Let's remove them and keep only the records where the duration was between 1 and 60 minutes (inclusive).\n",
    "\n",
    "What fraction of the records left after you dropped the outliers?"
   ]
  },
  {
   "cell_type": "code",
   "execution_count": 12,
   "metadata": {},
   "outputs": [],
   "source": [
    "df1_filter = df1[(df1.duration >= 1) & (df1.duration <= 60)]"
   ]
  },
  {
   "cell_type": "code",
   "execution_count": 13,
   "metadata": {},
   "outputs": [
    {
     "name": "stdout",
     "output_type": "stream",
     "text": [
      "The original dataset was 3066718 rows, and the newer dataset was 3009136 rows. So we are left with 98.0 percent of the original dataset.\n"
     ]
    }
   ],
   "source": [
    "print(\"The original dataset was\",len(df1),\"rows, and the newer dataset was\", len(df1_filter),\"rows. So we are left with\",round(len(df1_filter)/len(df1),2)*100 ,\"percent of the original dataset.\")"
   ]
  },
  {
   "cell_type": "markdown",
   "metadata": {},
   "source": [
    "## Q4. One-hot encoding\n",
    "\n",
    "Let's apply one-hot encoding to the pickup and dropoff location IDs. We'll use only these two features for our model.\n",
    "\n",
    "    Turn the dataframe into a list of dictionaries\n",
    "    Fit a dictionary vectorizer\n",
    "    Get a feature matrix from it\n",
    "\n",
    "What's the dimensionality of this matrix (number of columns)?\n",
    "\n",
    "    2\n",
    "    155\n",
    "    345\n",
    "    515\n",
    "    715\n"
   ]
  },
  {
   "cell_type": "code",
   "execution_count": 14,
   "metadata": {},
   "outputs": [
    {
     "name": "stderr",
     "output_type": "stream",
     "text": [
      "/tmp/ipykernel_10759/2605247708.py:2: SettingWithCopyWarning: \n",
      "A value is trying to be set on a copy of a slice from a DataFrame.\n",
      "Try using .loc[row_indexer,col_indexer] = value instead\n",
      "\n",
      "See the caveats in the documentation: https://pandas.pydata.org/pandas-docs/stable/user_guide/indexing.html#returning-a-view-versus-a-copy\n",
      "  df1_filter[[\"PULocationID\",\"DOLocationID\"]] = df1_filter[[\"PULocationID\",\"DOLocationID\"]].astype(str)\n"
     ]
    }
   ],
   "source": [
    "# Convert columns to 'category' if they have a limited number of unique values\n",
    "df1_filter[[\"PULocationID\",\"DOLocationID\"]] = df1_filter[[\"PULocationID\",\"DOLocationID\"]].astype(str)\n",
    "\n"
   ]
  },
  {
   "cell_type": "code",
   "execution_count": 15,
   "metadata": {},
   "outputs": [],
   "source": [
    "\n",
    "q4_one_hot = df1_filter[[\"PULocationID\", \"DOLocationID\"]]\n",
    "q4_one_hot = q4_one_hot.to_dict(orient = \"records\")\n",
    "v = DictVectorizer()\n"
   ]
  },
  {
   "cell_type": "code",
   "execution_count": 16,
   "metadata": {},
   "outputs": [],
   "source": [
    "X = v.fit_transform(q4_one_hot)"
   ]
  },
  {
   "cell_type": "code",
   "execution_count": 17,
   "metadata": {},
   "outputs": [
    {
     "data": {
      "text/plain": [
       "(3009136, 515)"
      ]
     },
     "execution_count": 17,
     "metadata": {},
     "output_type": "execute_result"
    }
   ],
   "source": [
    "X.shape"
   ]
  },
  {
   "cell_type": "markdown",
   "metadata": {},
   "source": [
    "## Q5. Training a model\n",
    "\n",
    "Now let's use the feature matrix from the previous step to train a model.\n",
    "\n",
    "    Train a plain linear regression model with default parameters\n",
    "    Calculate the RMSE of the model on the training data\n",
    "\n",
    "What's the RMSE on train?\n",
    "\n"
   ]
  },
  {
   "cell_type": "code",
   "execution_count": 18,
   "metadata": {},
   "outputs": [],
   "source": [
    "X_train = X\n",
    "y_train = df1_filter['duration'].values\n",
    "\n",
    "lr = LinearRegression()\n",
    "lr.fit(X_train, y_train)\n",
    "y_pred = lr.predict(X_train)"
   ]
  },
  {
   "cell_type": "code",
   "execution_count": 19,
   "metadata": {},
   "outputs": [
    {
     "name": "stderr",
     "output_type": "stream",
     "text": [
      "/opt/conda/envs/exp-tracking-env/lib/python3.12/site-packages/sklearn/metrics/_regression.py:492: FutureWarning: 'squared' is deprecated in version 1.4 and will be removed in 1.6. To calculate the root mean squared error, use the function'root_mean_squared_error'.\n",
      "  warnings.warn(\n"
     ]
    },
    {
     "data": {
      "text/plain": [
       "7.649229612202591"
      ]
     },
     "execution_count": 19,
     "metadata": {},
     "output_type": "execute_result"
    }
   ],
   "source": [
    "mean_squared_error(y_train, y_pred, squared=False)"
   ]
  },
  {
   "cell_type": "markdown",
   "metadata": {},
   "source": [
    "## Put the functions to read in the data all together. "
   ]
  },
  {
   "cell_type": "code",
   "execution_count": 20,
   "metadata": {},
   "outputs": [],
   "source": [
    "def taxi_data_prep(filename, month, low_bnd,upp_bnd):\n",
    "     df = pd.read_parquet(filename)\n",
    "     # Start prep of duration\n",
    "     df[\"duration\"] = df[\"tpep_dropoff_datetime\"] - df['tpep_pickup_datetime']\n",
    "     df.duration = df.duration.apply(lambda td: td.total_seconds() / 60)\n",
    "     df['PUMonth'] = df['tpep_pickup_datetime'].dt.month \n",
    "\n",
    "     # Filter out the month and durations\n",
    "     df = df[df.PUMonth==month]\n",
    "     df_filter = df[(df.duration >= low_bnd) & (df.duration <= upp_bnd)]\n",
    "     # Convert columns to 'category' if they have a limited number of unique values\n",
    "     df_filter[[\"PULocationID\",\"DOLocationID\"]] = df_filter[[\"PULocationID\",\"DOLocationID\"]].astype(str)\n",
    "\n",
    "     return df_filter"
   ]
  },
  {
   "cell_type": "code",
   "execution_count": 21,
   "metadata": {},
   "outputs": [
    {
     "name": "stderr",
     "output_type": "stream",
     "text": [
      "/tmp/ipykernel_10759/3872572736.py:12: SettingWithCopyWarning: \n",
      "A value is trying to be set on a copy of a slice from a DataFrame.\n",
      "Try using .loc[row_indexer,col_indexer] = value instead\n",
      "\n",
      "See the caveats in the documentation: https://pandas.pydata.org/pandas-docs/stable/user_guide/indexing.html#returning-a-view-versus-a-copy\n",
      "  df_filter[[\"PULocationID\",\"DOLocationID\"]] = df_filter[[\"PULocationID\",\"DOLocationID\"]].astype(str)\n",
      "/tmp/ipykernel_10759/3872572736.py:12: SettingWithCopyWarning: \n",
      "A value is trying to be set on a copy of a slice from a DataFrame.\n",
      "Try using .loc[row_indexer,col_indexer] = value instead\n",
      "\n",
      "See the caveats in the documentation: https://pandas.pydata.org/pandas-docs/stable/user_guide/indexing.html#returning-a-view-versus-a-copy\n",
      "  df_filter[[\"PULocationID\",\"DOLocationID\"]] = df_filter[[\"PULocationID\",\"DOLocationID\"]].astype(str)\n"
     ]
    }
   ],
   "source": [
    "df_train = taxi_data_prep(\"https://d37ci6vzurychx.cloudfront.net/trip-data/yellow_tripdata_2023-01.parquet\",\n",
    "                1, 1,60)\n",
    "df_val = taxi_data_prep(\"https://d37ci6vzurychx.cloudfront.net/trip-data/yellow_tripdata_2023-02.parquet\",\n",
    "                2, 1,60)"
   ]
  },
  {
   "cell_type": "markdown",
   "metadata": {},
   "source": [
    "## Q6. Evaluating the model\n",
    "\n",
    "Now let's apply this model to the validation dataset (February 2023).\n",
    "\n",
    "What's the RMSE on validation?"
   ]
  },
  {
   "cell_type": "code",
   "execution_count": 22,
   "metadata": {},
   "outputs": [],
   "source": [
    "v = DictVectorizer()\n",
    "\n",
    "# Create one hot encoding from df\n",
    "categorical = [\"PULocationID\", \"DOLocationID\"]\n",
    "train_dicts = df_train[categorical].to_dict(orient = \"records\")\n",
    "val_dicts = df_val[categorical].to_dict(orient = \"records\")\n",
    "\n",
    "X_train = v.fit_transform(train_dicts)\n",
    "X_val = v.transform(val_dicts)"
   ]
  },
  {
   "cell_type": "code",
   "execution_count": 23,
   "metadata": {},
   "outputs": [],
   "source": [
    "# Statistical Model Prep\n",
    "target = 'duration'\n",
    "y_train = df_train[target].values\n",
    "y_val = df_val[target].values"
   ]
  },
  {
   "cell_type": "code",
   "execution_count": 24,
   "metadata": {},
   "outputs": [
    {
     "name": "stderr",
     "output_type": "stream",
     "text": [
      "/opt/conda/envs/exp-tracking-env/lib/python3.12/site-packages/sklearn/metrics/_regression.py:492: FutureWarning: 'squared' is deprecated in version 1.4 and will be removed in 1.6. To calculate the root mean squared error, use the function'root_mean_squared_error'.\n",
      "  warnings.warn(\n"
     ]
    },
    {
     "data": {
      "text/plain": [
       "7.811825363985524"
      ]
     },
     "execution_count": 24,
     "metadata": {},
     "output_type": "execute_result"
    }
   ],
   "source": [
    "lr = LinearRegression()\n",
    "lr.fit(X_train, y_train)\n",
    "\n",
    "y_pred = lr.predict(X_val)\n",
    "\n",
    "mean_squared_error(y_val, y_pred, squared=False)"
   ]
  },
  {
   "cell_type": "markdown",
   "metadata": {},
   "source": [
    "# Save output and model into the model folder"
   ]
  },
  {
   "cell_type": "code",
   "execution_count": 25,
   "metadata": {},
   "outputs": [],
   "source": [
    "with open('models/lin_reg.bin','wb') as f_out:\n",
    "    pickle.dump((v,lr),f_out)"
   ]
  },
  {
   "cell_type": "markdown",
   "metadata": {},
   "source": [
    "# What do we do to update this? \n",
    "\n",
    "We can start tracking a new history using MLFlow\n",
    "- Features like `mlflow.start_run()` can be incredibly helpful in this process. Let's try to update our model by using lasso. "
   ]
  },
  {
   "cell_type": "code",
   "execution_count": 26,
   "metadata": {
    "scrolled": true
   },
   "outputs": [
    {
     "name": "stderr",
     "output_type": "stream",
     "text": [
      "/opt/conda/envs/exp-tracking-env/lib/python3.12/site-packages/sklearn/metrics/_regression.py:492: FutureWarning: 'squared' is deprecated in version 1.4 and will be removed in 1.6. To calculate the root mean squared error, use the function'root_mean_squared_error'.\n",
      "  warnings.warn(\n"
     ]
    },
    {
     "data": {
      "text/plain": [
       "8.75055890627609"
      ]
     },
     "execution_count": 26,
     "metadata": {},
     "output_type": "execute_result"
    }
   ],
   "source": [
    "lasso = Lasso(0.1)\n",
    "lasso.fit(X_train, y_train)\n",
    "\n",
    "y_pred = lasso.predict(X_val)\n",
    "\n",
    "mean_squared_error(y_val, y_pred, squared = False) "
   ]
  },
  {
   "cell_type": "markdown",
   "metadata": {},
   "source": [
    "This did a bit worse so let's try to update this with MLFlow's Processes!"
   ]
  },
  {
   "cell_type": "code",
   "execution_count": 27,
   "metadata": {},
   "outputs": [
    {
     "name": "stderr",
     "output_type": "stream",
     "text": [
      "/opt/conda/envs/exp-tracking-env/lib/python3.12/site-packages/sklearn/metrics/_regression.py:492: FutureWarning: 'squared' is deprecated in version 1.4 and will be removed in 1.6. To calculate the root mean squared error, use the function'root_mean_squared_error'.\n",
      "  warnings.warn(\n"
     ]
    }
   ],
   "source": [
    "with mlflow.start_run():\n",
    "    # Log developer\n",
    "    mlflow.set_tag(\"developer\", \"Emmanuel\")\n",
    "    # Set training and validation data pths \n",
    "    mlflow.log_param(\"train-data-path\", \"https://d37ci6vzurychx.cloudfront.net/trip-data/yellow_tripdata_2023-01.parquet\")\n",
    "    mlflow.log_param(\"valid-data-path\", \"https://d37ci6vzurychx.cloudfront.net/trip-data/yellow_tripdata_2023-02.parquet\")\n",
    "    \n",
    "    alpha = 0.01\n",
    "    # Log alpha parameters to evaluate model effectiveness\n",
    "    mlflow.log_param(\"alpha\", alpha)\n",
    "    lasso = Lasso(alpha)\n",
    "    lasso.fit(X_train, y_train)\n",
    "    \n",
    "    y_pred = lasso.predict(X_val)\n",
    "    rmse = mean_squared_error(y_val, y_pred, squared = False)\n",
    "    mlflow.log_metric(\"rmse\", rmse)"
   ]
  },
  {
   "cell_type": "markdown",
   "metadata": {},
   "source": [
    "# Hyperparameter Optimization with XGBoost \n",
    "\n"
   ]
  },
  {
   "cell_type": "code",
   "execution_count": 28,
   "metadata": {},
   "outputs": [],
   "source": [
    "import xgboost as xgb\n",
    "\n",
    "# fMin is the object that minimizes the error obkects \n",
    "from hyperopt import fmin, tpe, hp, STATUS_OK, Trials\n",
    "from hyperopt.pyll import scope"
   ]
  },
  {
   "cell_type": "code",
   "execution_count": 29,
   "metadata": {},
   "outputs": [],
   "source": [
    "train = xgb.DMatrix(X_train, label=y_train)\n",
    "valid = xgb.DMatrix(X_val, label=y_val)"
   ]
  },
  {
   "cell_type": "code",
   "execution_count": 30,
   "metadata": {},
   "outputs": [],
   "source": [
    "def objective(params):\n",
    "    \"\"\"\n",
    "    params: Set of parameters for XGBOOST that get logged to mlflow and generates booster object. \n",
    "    \"\"\"\n",
    "    with mlflow.start_run():\n",
    "        mlflow.set_tag(\"model\",\"xgboost\")\n",
    "        mlflow.log_params(params)\n",
    "        booster = xgb.train(\n",
    "            params=params,\n",
    "            dtrain=train,\n",
    "            # max iterations \n",
    "            num_boost_round=20,\n",
    "            # Validation set gets used to control the optimization algorithm\n",
    "            evals=[(valid,\"validation\")], \n",
    "            # if there are 50 rounds without better optimization then it stops \n",
    "            early_stopping_rounds=50\n",
    "        )\n",
    "        y_pred = booster.predict(valid)\n",
    "        rmse = mean_squared_error(y_val, y_pred, squared=False)\n",
    "        mlflow.log_metric(\"rmse\", rmse)\n",
    "        \n",
    "    return {'loss': rmse, 'status':STATUS_OK}\n",
    "\n",
    "\n",
    "        "
   ]
  },
  {
   "cell_type": "code",
   "execution_count": 38,
   "metadata": {},
   "outputs": [
    {
     "name": "stdout",
     "output_type": "stream",
     "text": [
      "  0%|          | 0/10 [00:00<?, ?trial/s, best loss=?]"
     ]
    },
    {
     "name": "stderr",
     "output_type": "stream",
     "text": [
      "/opt/conda/envs/exp-tracking-env/lib/python3.12/site-packages/xgboost/core.py:160: UserWarning: [19:14:35] WARNING: /croot/xgboost-split_1713972711803/work/cpp_src/src/objective/regression_obj.cu:209: reg:linear is now deprecated in favor of reg:squarederror.\n",
      "  warnings.warn(smsg, UserWarning)\n",
      "\n"
     ]
    },
    {
     "name": "stdout",
     "output_type": "stream",
     "text": [
      "[0]\tvalidation-rmse:9.23092                           \n",
      "[1]\tvalidation-rmse:8.61622                           \n",
      "[2]\tvalidation-rmse:7.94468                           \n",
      "[3]\tvalidation-rmse:7.62770                           \n",
      "[4]\tvalidation-rmse:7.38103                           \n",
      "[5]\tvalidation-rmse:6.98315                           \n",
      "[6]\tvalidation-rmse:6.86052                           \n",
      "[7]\tvalidation-rmse:6.58428                           \n",
      "[8]\tvalidation-rmse:6.51241                           \n",
      "[9]\tvalidation-rmse:6.45218                           \n",
      "[10]\tvalidation-rmse:6.40253                          \n",
      "[11]\tvalidation-rmse:6.21093                          \n",
      "[12]\tvalidation-rmse:6.18179                          \n",
      "[13]\tvalidation-rmse:6.14987                          \n",
      "[14]\tvalidation-rmse:6.12556                          \n",
      "[15]\tvalidation-rmse:6.09729                          \n",
      "[16]\tvalidation-rmse:5.95732                          \n",
      "[17]\tvalidation-rmse:5.94490                          \n",
      "[18]\tvalidation-rmse:5.84677                          \n",
      "[19]\tvalidation-rmse:5.83424                          \n",
      " 10%|█         | 1/10 [00:19<02:53, 19.25s/trial, best loss: 5.834241042126197]"
     ]
    },
    {
     "name": "stderr",
     "output_type": "stream",
     "text": [
      "/opt/conda/envs/exp-tracking-env/lib/python3.12/site-packages/sklearn/metrics/_regression.py:492: FutureWarning: 'squared' is deprecated in version 1.4 and will be removed in 1.6. To calculate the root mean squared error, use the function'root_mean_squared_error'.\n",
      "  warnings.warn(\n",
      "\n",
      "/opt/conda/envs/exp-tracking-env/lib/python3.12/site-packages/xgboost/core.py:160: UserWarning: [19:14:54] WARNING: /croot/xgboost-split_1713972711803/work/cpp_src/src/objective/regression_obj.cu:209: reg:linear is now deprecated in favor of reg:squarederror.\n",
      "  warnings.warn(smsg, UserWarning)\n",
      "\n"
     ]
    },
    {
     "name": "stdout",
     "output_type": "stream",
     "text": [
      "[0]\tvalidation-rmse:9.69812                                                    \n",
      "[1]\tvalidation-rmse:9.36905                                                    \n",
      "[2]\tvalidation-rmse:9.06308                                                    \n",
      "[3]\tvalidation-rmse:8.79746                                                    \n",
      "[4]\tvalidation-rmse:8.49455                                                    \n",
      "[5]\tvalidation-rmse:8.28544                                                    \n",
      "[6]\tvalidation-rmse:8.10547                                                    \n",
      "[7]\tvalidation-rmse:7.84334                                                    \n",
      "[8]\tvalidation-rmse:7.61690                                                    \n",
      "[9]\tvalidation-rmse:7.48434                                                    \n",
      "[10]\tvalidation-rmse:7.25731                                                   \n",
      "[11]\tvalidation-rmse:7.05891                                                   \n",
      "[12]\tvalidation-rmse:6.97282                                                   \n",
      "[13]\tvalidation-rmse:6.79603                                                   \n",
      "[14]\tvalidation-rmse:6.63983                                                   \n",
      "[15]\tvalidation-rmse:6.50942                                                   \n",
      "[16]\tvalidation-rmse:6.45392                                                   \n",
      "[17]\tvalidation-rmse:6.34017                                                   \n",
      "[18]\tvalidation-rmse:6.29653                                                   \n",
      "[19]\tvalidation-rmse:6.20960                                                   \n",
      " 20%|██        | 2/10 [00:45<03:06, 23.34s/trial, best loss: 5.834241042126197]"
     ]
    },
    {
     "name": "stderr",
     "output_type": "stream",
     "text": [
      "/opt/conda/envs/exp-tracking-env/lib/python3.12/site-packages/sklearn/metrics/_regression.py:492: FutureWarning: 'squared' is deprecated in version 1.4 and will be removed in 1.6. To calculate the root mean squared error, use the function'root_mean_squared_error'.\n",
      "  warnings.warn(\n",
      "\n",
      "/opt/conda/envs/exp-tracking-env/lib/python3.12/site-packages/xgboost/core.py:160: UserWarning: [19:15:20] WARNING: /croot/xgboost-split_1713972711803/work/cpp_src/src/objective/regression_obj.cu:209: reg:linear is now deprecated in favor of reg:squarederror.\n",
      "  warnings.warn(smsg, UserWarning)\n",
      "\n"
     ]
    },
    {
     "name": "stdout",
     "output_type": "stream",
     "text": [
      "[0]\tvalidation-rmse:7.87977                                                    \n",
      "[1]\tvalidation-rmse:7.49390                                                    \n",
      "[2]\tvalidation-rmse:7.00924                                                    \n",
      "[3]\tvalidation-rmse:6.88993                                                    \n",
      "[4]\tvalidation-rmse:6.74428                                                    \n",
      "[5]\tvalidation-rmse:6.63107                                                    \n",
      "[6]\tvalidation-rmse:6.56193                                                    \n",
      "[7]\tvalidation-rmse:6.52419                                                    \n",
      "[8]\tvalidation-rmse:6.46914                                                    \n",
      "[9]\tvalidation-rmse:6.31886                                                    \n",
      "[10]\tvalidation-rmse:6.27122                                                   \n",
      "[11]\tvalidation-rmse:6.25453                                                   \n",
      "[12]\tvalidation-rmse:6.13743                                                   \n",
      "[13]\tvalidation-rmse:6.04910                                                   \n",
      "[14]\tvalidation-rmse:6.01538                                                   \n",
      "[15]\tvalidation-rmse:5.94791                                                   \n",
      "[16]\tvalidation-rmse:5.93592                                                   \n",
      "[17]\tvalidation-rmse:5.87820                                                   \n",
      "[18]\tvalidation-rmse:5.80485                                                   \n",
      "[19]\tvalidation-rmse:5.73975                                                   \n",
      " 30%|███       | 3/10 [00:56<02:03, 17.69s/trial, best loss: 5.7397466911014705]"
     ]
    },
    {
     "name": "stderr",
     "output_type": "stream",
     "text": [
      "/opt/conda/envs/exp-tracking-env/lib/python3.12/site-packages/sklearn/metrics/_regression.py:492: FutureWarning: 'squared' is deprecated in version 1.4 and will be removed in 1.6. To calculate the root mean squared error, use the function'root_mean_squared_error'.\n",
      "  warnings.warn(\n",
      "\n",
      "/opt/conda/envs/exp-tracking-env/lib/python3.12/site-packages/xgboost/core.py:160: UserWarning: [19:15:31] WARNING: /croot/xgboost-split_1713972711803/work/cpp_src/src/objective/regression_obj.cu:209: reg:linear is now deprecated in favor of reg:squarederror.\n",
      "  warnings.warn(smsg, UserWarning)\n",
      "\n"
     ]
    },
    {
     "name": "stdout",
     "output_type": "stream",
     "text": [
      "[0]\tvalidation-rmse:9.77578                                                     \n",
      "[1]\tvalidation-rmse:9.50435                                                     \n",
      "[2]\tvalidation-rmse:9.25998                                                     \n",
      "[3]\tvalidation-rmse:9.02416                                                     \n",
      "[4]\tvalidation-rmse:8.81748                                                     \n",
      "[5]\tvalidation-rmse:8.62311                                                     \n",
      "[6]\tvalidation-rmse:8.40615                                                     \n",
      "[7]\tvalidation-rmse:8.25098                                                     \n",
      "[8]\tvalidation-rmse:8.04128                                                     \n",
      "[9]\tvalidation-rmse:7.91303                                                     \n",
      "[10]\tvalidation-rmse:7.79693                                                    \n",
      "[11]\tvalidation-rmse:7.58415                                                    \n",
      "[12]\tvalidation-rmse:7.38914                                                    \n",
      "[13]\tvalidation-rmse:7.21149                                                    \n",
      "[14]\tvalidation-rmse:7.04902                                                    \n",
      "[15]\tvalidation-rmse:6.90024                                                    \n",
      "[16]\tvalidation-rmse:6.76568                                                    \n",
      "[17]\tvalidation-rmse:6.64716                                                    \n",
      "[18]\tvalidation-rmse:6.59062                                                    \n",
      "[19]\tvalidation-rmse:6.47986                                                    \n",
      " 40%|████      | 4/10 [01:25<02:13, 22.18s/trial, best loss: 5.7397466911014705]"
     ]
    },
    {
     "name": "stderr",
     "output_type": "stream",
     "text": [
      "/opt/conda/envs/exp-tracking-env/lib/python3.12/site-packages/sklearn/metrics/_regression.py:492: FutureWarning: 'squared' is deprecated in version 1.4 and will be removed in 1.6. To calculate the root mean squared error, use the function'root_mean_squared_error'.\n",
      "  warnings.warn(\n",
      "\n",
      "/opt/conda/envs/exp-tracking-env/lib/python3.12/site-packages/xgboost/core.py:160: UserWarning: [19:16:00] WARNING: /croot/xgboost-split_1713972711803/work/cpp_src/src/objective/regression_obj.cu:209: reg:linear is now deprecated in favor of reg:squarederror.\n",
      "  warnings.warn(smsg, UserWarning)\n",
      "\n"
     ]
    },
    {
     "name": "stdout",
     "output_type": "stream",
     "text": [
      "[0]\tvalidation-rmse:8.62086                                                     \n",
      "[1]\tvalidation-rmse:7.98359                                                     \n",
      "[2]\tvalidation-rmse:7.62616                                                     \n",
      "[3]\tvalidation-rmse:7.47036                                                     \n",
      "[4]\tvalidation-rmse:7.14608                                                     \n",
      "[5]\tvalidation-rmse:7.06964                                                     \n",
      "[6]\tvalidation-rmse:7.00934                                                     \n",
      "[7]\tvalidation-rmse:6.87710                                                     \n",
      "[8]\tvalidation-rmse:6.82932                                                     \n",
      "[9]\tvalidation-rmse:6.66968                                                     \n",
      "[10]\tvalidation-rmse:6.63249                                                    \n",
      "[11]\tvalidation-rmse:6.60886                                                    \n",
      "[12]\tvalidation-rmse:6.38934                                                    \n",
      "[13]\tvalidation-rmse:6.26219                                                    \n",
      "[14]\tvalidation-rmse:6.24588                                                    \n",
      "[15]\tvalidation-rmse:6.23282                                                    \n",
      "[16]\tvalidation-rmse:6.22014                                                    \n",
      "[17]\tvalidation-rmse:6.20003                                                    \n",
      "[18]\tvalidation-rmse:6.17509                                                    \n",
      "[19]\tvalidation-rmse:6.16130                                                    \n",
      " 50%|█████     | 5/10 [01:36<01:30, 18.17s/trial, best loss: 5.7397466911014705]"
     ]
    },
    {
     "name": "stderr",
     "output_type": "stream",
     "text": [
      "/opt/conda/envs/exp-tracking-env/lib/python3.12/site-packages/sklearn/metrics/_regression.py:492: FutureWarning: 'squared' is deprecated in version 1.4 and will be removed in 1.6. To calculate the root mean squared error, use the function'root_mean_squared_error'.\n",
      "  warnings.warn(\n",
      "\n",
      "/opt/conda/envs/exp-tracking-env/lib/python3.12/site-packages/xgboost/core.py:160: UserWarning: [19:16:11] WARNING: /croot/xgboost-split_1713972711803/work/cpp_src/src/objective/regression_obj.cu:209: reg:linear is now deprecated in favor of reg:squarederror.\n",
      "  warnings.warn(smsg, UserWarning)\n",
      "\n"
     ]
    },
    {
     "name": "stdout",
     "output_type": "stream",
     "text": [
      "[0]\tvalidation-rmse:9.51005                                                     \n",
      "[1]\tvalidation-rmse:9.11655                                                     \n",
      "[2]\tvalidation-rmse:8.83924                                                     \n",
      "[3]\tvalidation-rmse:8.64357                                                     \n",
      "[4]\tvalidation-rmse:8.50466                                                     \n",
      "[5]\tvalidation-rmse:8.40168                                                     \n",
      "[6]\tvalidation-rmse:8.32992                                                     \n",
      "[7]\tvalidation-rmse:8.27462                                                     \n",
      "[8]\tvalidation-rmse:8.22871                                                     \n",
      "[9]\tvalidation-rmse:8.18698                                                     \n",
      "[10]\tvalidation-rmse:8.15959                                                    \n",
      "[11]\tvalidation-rmse:8.13263                                                    \n",
      "[12]\tvalidation-rmse:8.11321                                                    \n",
      "[13]\tvalidation-rmse:8.08909                                                    \n",
      "[14]\tvalidation-rmse:8.07332                                                    \n",
      "[15]\tvalidation-rmse:8.05842                                                    \n",
      "[16]\tvalidation-rmse:8.03177                                                    \n",
      "[17]\tvalidation-rmse:8.01968                                                    \n",
      "[18]\tvalidation-rmse:8.00519                                                    \n",
      "[19]\tvalidation-rmse:7.99035                                                    \n",
      " 60%|██████    | 6/10 [01:42<00:55, 13.94s/trial, best loss: 5.7397466911014705]"
     ]
    },
    {
     "name": "stderr",
     "output_type": "stream",
     "text": [
      "/opt/conda/envs/exp-tracking-env/lib/python3.12/site-packages/sklearn/metrics/_regression.py:492: FutureWarning: 'squared' is deprecated in version 1.4 and will be removed in 1.6. To calculate the root mean squared error, use the function'root_mean_squared_error'.\n",
      "  warnings.warn(\n",
      "\n",
      "/opt/conda/envs/exp-tracking-env/lib/python3.12/site-packages/xgboost/core.py:160: UserWarning: [19:16:17] WARNING: /croot/xgboost-split_1713972711803/work/cpp_src/src/objective/regression_obj.cu:209: reg:linear is now deprecated in favor of reg:squarederror.\n",
      "  warnings.warn(smsg, UserWarning)\n",
      "\n"
     ]
    },
    {
     "name": "stdout",
     "output_type": "stream",
     "text": [
      "[0]\tvalidation-rmse:9.76065                                                     \n",
      "[1]\tvalidation-rmse:9.48096                                                     \n",
      "[2]\tvalidation-rmse:9.23062                                                     \n",
      "[3]\tvalidation-rmse:9.00354                                                     \n",
      "[4]\tvalidation-rmse:8.76658                                                     \n",
      "[5]\tvalidation-rmse:8.57612                                                     \n",
      "[6]\tvalidation-rmse:8.35105                                                     \n",
      "[7]\tvalidation-rmse:8.19133                                                     \n",
      "[8]\tvalidation-rmse:7.96053                                                     \n",
      "[9]\tvalidation-rmse:7.75296                                                     \n",
      "[10]\tvalidation-rmse:7.62713                                                    \n",
      "[11]\tvalidation-rmse:7.44033                                                    \n",
      "[12]\tvalidation-rmse:7.33383                                                    \n",
      "[13]\tvalidation-rmse:7.16976                                                    \n",
      "[14]\tvalidation-rmse:7.08324                                                    \n",
      "[15]\tvalidation-rmse:6.93180                                                    \n",
      "[16]\tvalidation-rmse:6.79321                                                    \n",
      "[17]\tvalidation-rmse:6.66627                                                    \n",
      "[18]\tvalidation-rmse:6.55204                                                    \n",
      "[19]\tvalidation-rmse:6.49210                                                    \n",
      " 70%|███████   | 7/10 [02:18<01:03, 21.19s/trial, best loss: 5.7397466911014705]"
     ]
    },
    {
     "name": "stderr",
     "output_type": "stream",
     "text": [
      "/opt/conda/envs/exp-tracking-env/lib/python3.12/site-packages/sklearn/metrics/_regression.py:492: FutureWarning: 'squared' is deprecated in version 1.4 and will be removed in 1.6. To calculate the root mean squared error, use the function'root_mean_squared_error'.\n",
      "  warnings.warn(\n",
      "\n",
      "/opt/conda/envs/exp-tracking-env/lib/python3.12/site-packages/xgboost/core.py:160: UserWarning: [19:16:53] WARNING: /croot/xgboost-split_1713972711803/work/cpp_src/src/objective/regression_obj.cu:209: reg:linear is now deprecated in favor of reg:squarederror.\n",
      "  warnings.warn(smsg, UserWarning)\n",
      "\n"
     ]
    },
    {
     "name": "stdout",
     "output_type": "stream",
     "text": [
      "[0]\tvalidation-rmse:9.45616                                                     \n",
      "[1]\tvalidation-rmse:8.96434                                                     \n",
      "[2]\tvalidation-rmse:8.57249                                                     \n",
      "[3]\tvalidation-rmse:8.07139                                                     \n",
      "[4]\tvalidation-rmse:7.73790                                                     \n",
      "[5]\tvalidation-rmse:7.53643                                                     \n",
      "[6]\tvalidation-rmse:7.21754                                                     \n",
      "[7]\tvalidation-rmse:7.08868                                                     \n",
      "[8]\tvalidation-rmse:6.97319                                                     \n",
      "[9]\tvalidation-rmse:6.88937                                                     \n",
      "[10]\tvalidation-rmse:6.67195                                                    \n",
      "[11]\tvalidation-rmse:6.61692                                                    \n",
      "[12]\tvalidation-rmse:6.56762                                                    \n",
      "[13]\tvalidation-rmse:6.42519                                                    \n",
      "[14]\tvalidation-rmse:6.39256                                                    \n",
      "[15]\tvalidation-rmse:6.36299                                                    \n",
      "[16]\tvalidation-rmse:6.25219                                                    \n",
      "[17]\tvalidation-rmse:6.22082                                                    \n",
      "[18]\tvalidation-rmse:6.19969                                                    \n",
      "[19]\tvalidation-rmse:6.18219                                                    \n",
      " 80%|████████  | 8/10 [02:37<00:41, 20.53s/trial, best loss: 5.7397466911014705]"
     ]
    },
    {
     "name": "stderr",
     "output_type": "stream",
     "text": [
      "/opt/conda/envs/exp-tracking-env/lib/python3.12/site-packages/sklearn/metrics/_regression.py:492: FutureWarning: 'squared' is deprecated in version 1.4 and will be removed in 1.6. To calculate the root mean squared error, use the function'root_mean_squared_error'.\n",
      "  warnings.warn(\n",
      "\n",
      "/opt/conda/envs/exp-tracking-env/lib/python3.12/site-packages/xgboost/core.py:160: UserWarning: [19:17:12] WARNING: /croot/xgboost-split_1713972711803/work/cpp_src/src/objective/regression_obj.cu:209: reg:linear is now deprecated in favor of reg:squarederror.\n",
      "  warnings.warn(smsg, UserWarning)\n",
      "\n"
     ]
    },
    {
     "name": "stdout",
     "output_type": "stream",
     "text": [
      "[0]\tvalidation-rmse:7.79024                                                     \n",
      "[1]\tvalidation-rmse:6.16139                                                     \n",
      "[2]\tvalidation-rmse:5.90409                                                     \n",
      "[3]\tvalidation-rmse:5.63844                                                     \n",
      "[4]\tvalidation-rmse:5.58555                                                     \n",
      "[5]\tvalidation-rmse:5.55679                                                     \n",
      "[6]\tvalidation-rmse:5.46957                                                     \n",
      "[7]\tvalidation-rmse:5.43459                                                     \n",
      "[8]\tvalidation-rmse:5.38297                                                     \n",
      "[9]\tvalidation-rmse:5.36628                                                     \n",
      "[10]\tvalidation-rmse:5.35458                                                    \n",
      "[11]\tvalidation-rmse:5.29096                                                    \n",
      "[12]\tvalidation-rmse:5.28606                                                    \n",
      "[13]\tvalidation-rmse:5.28351                                                    \n",
      "[14]\tvalidation-rmse:5.26039                                                    \n",
      "[15]\tvalidation-rmse:5.25756                                                    \n",
      "[16]\tvalidation-rmse:5.25486                                                    \n",
      "[17]\tvalidation-rmse:5.24655                                                    \n",
      "[18]\tvalidation-rmse:5.24452                                                    \n",
      "[19]\tvalidation-rmse:5.24305                                                    \n",
      " 90%|█████████ | 9/10 [03:02<00:21, 22.00s/trial, best loss: 5.243051375890796] "
     ]
    },
    {
     "name": "stderr",
     "output_type": "stream",
     "text": [
      "/opt/conda/envs/exp-tracking-env/lib/python3.12/site-packages/sklearn/metrics/_regression.py:492: FutureWarning: 'squared' is deprecated in version 1.4 and will be removed in 1.6. To calculate the root mean squared error, use the function'root_mean_squared_error'.\n",
      "  warnings.warn(\n",
      "\n",
      "/opt/conda/envs/exp-tracking-env/lib/python3.12/site-packages/xgboost/core.py:160: UserWarning: [19:17:37] WARNING: /croot/xgboost-split_1713972711803/work/cpp_src/src/objective/regression_obj.cu:209: reg:linear is now deprecated in favor of reg:squarederror.\n",
      "  warnings.warn(smsg, UserWarning)\n",
      "\n"
     ]
    },
    {
     "name": "stdout",
     "output_type": "stream",
     "text": [
      "[0]\tvalidation-rmse:8.62129                                                    \n",
      "[1]\tvalidation-rmse:7.80006                                                    \n",
      "[2]\tvalidation-rmse:7.46710                                                    \n",
      "[3]\tvalidation-rmse:7.15149                                                    \n",
      "[4]\tvalidation-rmse:7.03220                                                    \n",
      "[5]\tvalidation-rmse:6.74913                                                    \n",
      "[6]\tvalidation-rmse:6.65424                                                    \n",
      "[7]\tvalidation-rmse:6.60712                                                    \n",
      "[8]\tvalidation-rmse:6.38764                                                    \n",
      "[9]\tvalidation-rmse:6.35330                                                    \n",
      "[10]\tvalidation-rmse:6.23807                                                   \n",
      "[11]\tvalidation-rmse:6.20902                                                   \n",
      "[12]\tvalidation-rmse:6.18369                                                   \n",
      "[13]\tvalidation-rmse:6.15426                                                   \n",
      "[14]\tvalidation-rmse:6.10935                                                   \n",
      "[15]\tvalidation-rmse:6.06062                                                   \n",
      "[16]\tvalidation-rmse:6.04482                                                   \n",
      "[17]\tvalidation-rmse:6.00889                                                   \n",
      "[18]\tvalidation-rmse:5.86109                                                   \n",
      "[19]\tvalidation-rmse:5.82728                                                   \n",
      "100%|██████████| 10/10 [03:17<00:00, 19.71s/trial, best loss: 5.243051375890796]\n"
     ]
    },
    {
     "name": "stderr",
     "output_type": "stream",
     "text": [
      "/opt/conda/envs/exp-tracking-env/lib/python3.12/site-packages/sklearn/metrics/_regression.py:492: FutureWarning: 'squared' is deprecated in version 1.4 and will be removed in 1.6. To calculate the root mean squared error, use the function'root_mean_squared_error'.\n",
      "  warnings.warn(\n",
      "\n"
     ]
    }
   ],
   "source": [
    "search_space = {\n",
    "    # controls the depth of the trees: 4-100 levels; returns a real number but we want an integer\n",
    "    'max_depth': scope.int(hp.quniform('max_depth', 4, 100, 1)),\n",
    "    'learning_rate': hp.loguniform('learning_rate', -3, 0), # exp(-3), exp(0) - [0.05, 1]\n",
    "    'reg_alpha': hp.loguniform('reg_alpha', -5, -1),\n",
    "    'reg_lambda': hp.loguniform('reg_lambda', -6, -1),\n",
    "    'min_child_weight': hp.loguniform('min_child_weight', -1, 3),\n",
    "    'objective': 'reg:linear', \n",
    "    'seed': 42\n",
    "}\n",
    "\n",
    "best_result = fmin(\n",
    "    fn=objective, \n",
    "    space = search_space,\n",
    "    algo = tpe.suggest,\n",
    "    max_evals = 10, \n",
    "    trials = Trials()\n",
    ")"
   ]
  },
  {
   "cell_type": "markdown",
   "metadata": {},
   "source": [
    "# Logging a model using mlflow\n",
    "\n",
    "The simplest way to do it is by using `mlflow.log_artifact()`"
   ]
  },
  {
   "cell_type": "code",
   "execution_count": 41,
   "metadata": {},
   "outputs": [
    {
     "name": "stderr",
     "output_type": "stream",
     "text": [
      "/opt/conda/envs/exp-tracking-env/lib/python3.12/site-packages/sklearn/metrics/_regression.py:492: FutureWarning: 'squared' is deprecated in version 1.4 and will be removed in 1.6. To calculate the root mean squared error, use the function'root_mean_squared_error'.\n",
      "  warnings.warn(\n"
     ]
    }
   ],
   "source": [
    "#with mlflow.start_run():\n",
    "    # Log developer\n",
    "    mlflow.set_tag(\"developer\", \"Emmanuel\")\n",
    "    # Set training and validation data pths \n",
    "    mlflow.log_param(\"train-data-path\", \"https://d37ci6vzurychx.cloudfront.net/trip-data/yellow_tripdata_2023-01.parquet\")\n",
    "    mlflow.log_param(\"valid-data-path\", \"https://d37ci6vzurychx.cloudfront.net/trip-data/yellow_tripdata_2023-02.parquet\")\n",
    "    \n",
    "    alpha = 0.01\n",
    "    # Log alpha parameters to evaluate model effectiveness\n",
    "    mlflow.log_param(\"alpha\", alpha)\n",
    "    lasso = Lasso(alpha)\n",
    "    lasso.fit(X_train, y_train)\n",
    "    \n",
    "    y_pred = lasso.predict(X_val)\n",
    "    rmse = mean_squared_error(y_val, y_pred, squared = False)\n",
    "    mlflow.log_metric(\"rmse\", rmse)\n",
    "\n",
    "    mlflow.log_artifact(local_path = \"models/lin_reg.bin\", artifact_path=\"models/model_pickle\")"
   ]
  },
  {
   "cell_type": "code",
   "execution_count": 45,
   "metadata": {},
   "outputs": [
    {
     "name": "stderr",
     "output_type": "stream",
     "text": [
      "/opt/conda/envs/exp-tracking-env/lib/python3.12/site-packages/xgboost/core.py:160: UserWarning: [19:34:52] WARNING: /croot/xgboost-split_1713972711803/work/cpp_src/src/objective/regression_obj.cu:209: reg:linear is now deprecated in favor of reg:squarederror.\n",
      "  warnings.warn(smsg, UserWarning)\n"
     ]
    },
    {
     "name": "stdout",
     "output_type": "stream",
     "text": [
      "[0]\tvalidation-rmse:7.57263\n",
      "[1]\tvalidation-rmse:7.06574\n",
      "[2]\tvalidation-rmse:6.79753\n",
      "[3]\tvalidation-rmse:6.67683\n",
      "[4]\tvalidation-rmse:6.42471\n",
      "[5]\tvalidation-rmse:6.33258\n",
      "[6]\tvalidation-rmse:6.13333\n",
      "[7]\tvalidation-rmse:6.08795\n",
      "[8]\tvalidation-rmse:5.93047\n",
      "[9]\tvalidation-rmse:5.88699\n",
      "[10]\tvalidation-rmse:5.86652\n",
      "[11]\tvalidation-rmse:5.63215\n",
      "[12]\tvalidation-rmse:5.52192\n",
      "[13]\tvalidation-rmse:5.47711\n",
      "[14]\tvalidation-rmse:5.45489\n",
      "[15]\tvalidation-rmse:5.42772\n",
      "[16]\tvalidation-rmse:5.39945\n",
      "[17]\tvalidation-rmse:5.36669\n",
      "[18]\tvalidation-rmse:5.33672\n",
      "[19]\tvalidation-rmse:5.32648\n",
      "[20]\tvalidation-rmse:5.31131\n",
      "[21]\tvalidation-rmse:5.29392\n",
      "[22]\tvalidation-rmse:5.28537\n",
      "[23]\tvalidation-rmse:5.27372\n",
      "[24]\tvalidation-rmse:5.26809\n",
      "[25]\tvalidation-rmse:5.26172\n",
      "[26]\tvalidation-rmse:5.25741\n",
      "[27]\tvalidation-rmse:5.25256\n",
      "[28]\tvalidation-rmse:5.24923\n",
      "[29]\tvalidation-rmse:5.24542\n",
      "[30]\tvalidation-rmse:5.24307\n",
      "[31]\tvalidation-rmse:5.24038\n",
      "[32]\tvalidation-rmse:5.23939\n",
      "[33]\tvalidation-rmse:5.23800\n",
      "[34]\tvalidation-rmse:5.23749\n",
      "[35]\tvalidation-rmse:5.23619\n",
      "[36]\tvalidation-rmse:5.23432\n",
      "[37]\tvalidation-rmse:5.23283\n",
      "[38]\tvalidation-rmse:5.23133\n",
      "[39]\tvalidation-rmse:5.23041\n",
      "[40]\tvalidation-rmse:5.22998\n",
      "[41]\tvalidation-rmse:5.22992\n",
      "[42]\tvalidation-rmse:5.22976\n",
      "[43]\tvalidation-rmse:5.22912\n",
      "[44]\tvalidation-rmse:5.22829\n",
      "[45]\tvalidation-rmse:5.22816\n",
      "[46]\tvalidation-rmse:5.22758\n",
      "[47]\tvalidation-rmse:5.22699\n",
      "[48]\tvalidation-rmse:5.22644\n",
      "[49]\tvalidation-rmse:5.22612\n",
      "[50]\tvalidation-rmse:5.22552\n",
      "[51]\tvalidation-rmse:5.22509\n",
      "[52]\tvalidation-rmse:5.22512\n",
      "[53]\tvalidation-rmse:5.22500\n",
      "[54]\tvalidation-rmse:5.22503\n",
      "[55]\tvalidation-rmse:5.22487\n",
      "[56]\tvalidation-rmse:5.22463\n",
      "[57]\tvalidation-rmse:5.22422\n",
      "[58]\tvalidation-rmse:5.22378\n",
      "[59]\tvalidation-rmse:5.22336\n",
      "[60]\tvalidation-rmse:5.22341\n",
      "[61]\tvalidation-rmse:5.22328\n",
      "[62]\tvalidation-rmse:5.22319\n",
      "[63]\tvalidation-rmse:5.22313\n",
      "[64]\tvalidation-rmse:5.22302\n",
      "[65]\tvalidation-rmse:5.22283\n",
      "[66]\tvalidation-rmse:5.22261\n",
      "[67]\tvalidation-rmse:5.22268\n",
      "[68]\tvalidation-rmse:5.22251\n",
      "[69]\tvalidation-rmse:5.22265\n",
      "[70]\tvalidation-rmse:5.22234\n",
      "[71]\tvalidation-rmse:5.22204\n",
      "[72]\tvalidation-rmse:5.22194\n",
      "[73]\tvalidation-rmse:5.22186\n",
      "[74]\tvalidation-rmse:5.22225\n",
      "[75]\tvalidation-rmse:5.22225\n",
      "[76]\tvalidation-rmse:5.22218\n",
      "[77]\tvalidation-rmse:5.22199\n",
      "[78]\tvalidation-rmse:5.22197\n",
      "[79]\tvalidation-rmse:5.22194\n",
      "[80]\tvalidation-rmse:5.22188\n",
      "[81]\tvalidation-rmse:5.22186\n",
      "[82]\tvalidation-rmse:5.22197\n",
      "[83]\tvalidation-rmse:5.22187\n",
      "[84]\tvalidation-rmse:5.22192\n",
      "[85]\tvalidation-rmse:5.22176\n",
      "[86]\tvalidation-rmse:5.22184\n",
      "[87]\tvalidation-rmse:5.22186\n",
      "[88]\tvalidation-rmse:5.22176\n",
      "[89]\tvalidation-rmse:5.22183\n",
      "[90]\tvalidation-rmse:5.22164\n",
      "[91]\tvalidation-rmse:5.22156\n",
      "[92]\tvalidation-rmse:5.22154\n",
      "[93]\tvalidation-rmse:5.22155\n",
      "[94]\tvalidation-rmse:5.22166\n",
      "[95]\tvalidation-rmse:5.22140\n",
      "[96]\tvalidation-rmse:5.22139\n",
      "[97]\tvalidation-rmse:5.22138\n",
      "[98]\tvalidation-rmse:5.22140\n",
      "[99]\tvalidation-rmse:5.22140\n"
     ]
    },
    {
     "name": "stderr",
     "output_type": "stream",
     "text": [
      "/opt/conda/envs/exp-tracking-env/lib/python3.12/site-packages/sklearn/metrics/_regression.py:492: FutureWarning: 'squared' is deprecated in version 1.4 and will be removed in 1.6. To calculate the root mean squared error, use the function'root_mean_squared_error'.\n",
      "  warnings.warn(\n",
      "/opt/conda/envs/exp-tracking-env/lib/python3.12/site-packages/xgboost/core.py:160: UserWarning: [19:36:01] WARNING: /croot/xgboost-split_1713972711803/work/cpp_src/src/c_api/c_api.cc:1240: Saving into deprecated binary model format, please consider using `json` or `ubj`. Model format will default to JSON in XGBoost 2.2 if not specified.\n",
      "  warnings.warn(smsg, UserWarning)\n"
     ]
    }
   ],
   "source": [
    "with mlflow.start_run():\n",
    "    \n",
    "    best_params = {\n",
    "        'learning_rate': 0.9585355369315604,\n",
    "        'max_depth':30,\n",
    "        'min_child_weight': 1.060597050922164,\n",
    "        'objective': 'reg:linear',\n",
    "        'reg_alpha': 0.018060244040060163,\n",
    "        'reg_lambda': 0.011658731377413597,\n",
    "        'seed':42\n",
    "    }\n",
    "\n",
    "    mlflow.log_params(best_params)\n",
    "\n",
    "    booster = xgb.train(\n",
    "        params=best_params,\n",
    "        dtrain=train,\n",
    "        num_boost_round = 100, \n",
    "        evals=[(valid,'validation')],\n",
    "        early_stopping_rounds=50\n",
    "    )\n",
    "\n",
    "    y_pred = booster.predict(valid)\n",
    "    rmse=mean_squared_error(y_val, y_pred, squared=False)\n",
    "    mlflow.log_metric(\"rmse\", rmse) \n",
    "\n",
    "    mlflow.xgboost.log_model(booster, artifact_path = \"models_mlflow\")"
   ]
  },
  {
   "cell_type": "markdown",
   "metadata": {},
   "source": [
    "# Model Registry with MLFlow"
   ]
  },
  {
   "cell_type": "code",
   "execution_count": 32,
   "metadata": {},
   "outputs": [],
   "source": [
    "from mlflow.tracking import MlflowClient\n",
    "\n",
    "MLFLOWTrackinguri = \"http://127.0.0.1:5000\"\n",
    "\n",
    "client = MlflowClient(tracking_uri=MLFLOWTrackinguri)"
   ]
  },
  {
   "cell_type": "code",
   "execution_count": 33,
   "metadata": {},
   "outputs": [
    {
     "ename": "TypeError",
     "evalue": "MlflowClient.list_artifacts() missing 1 required positional argument: 'run_id'",
     "output_type": "error",
     "traceback": [
      "\u001b[0;31m---------------------------------------------------------------------------\u001b[0m",
      "\u001b[0;31mTypeError\u001b[0m                                 Traceback (most recent call last)",
      "Cell \u001b[0;32mIn[33], line 1\u001b[0m\n\u001b[0;32m----> 1\u001b[0m \u001b[43mclient\u001b[49m\u001b[38;5;241;43m.\u001b[39;49m\u001b[43mlist_artifacts\u001b[49m\u001b[43m(\u001b[49m\u001b[43m)\u001b[49m\n\u001b[1;32m      3\u001b[0m client\u001b[38;5;241m.\u001b[39mcreate_experiment(name\u001b[38;5;241m=\u001b[39m\u001b[38;5;124m\"\u001b[39m\u001b[38;5;124mmy-cool-experiment\u001b[39m\u001b[38;5;124m\"\u001b[39m)\n",
      "\u001b[0;31mTypeError\u001b[0m: MlflowClient.list_artifacts() missing 1 required positional argument: 'run_id'"
     ]
    }
   ],
   "source": [
    "client.list_artifacts()\n",
    "\n",
    "client.create_experiment(name=\"my-cool-experiment\")\n"
   ]
  },
  {
   "cell_type": "code",
   "execution_count": 34,
   "metadata": {},
   "outputs": [],
   "source": [
    "from mlflow.entities import ViewType\n",
    "\n",
    "runs= client.search_runs(\n",
    "    experiment_ids = '1',\n",
    "    filter_string = \"\",\n",
    "    run_view_type = ViewType.ACTIVE_ONLY,\n",
    "    max_results=5,\n",
    "    order_by=[\"metrics.rmse ASC\"]\n",
    ")"
   ]
  },
  {
   "cell_type": "code",
   "execution_count": null,
   "metadata": {},
   "outputs": [],
   "source": []
  }
 ],
 "metadata": {
  "kernelspec": {
   "display_name": "Python 3 (ipykernel)",
   "language": "python",
   "name": "python3"
  },
  "language_info": {
   "codemirror_mode": {
    "name": "ipython",
    "version": 3
   },
   "file_extension": ".py",
   "mimetype": "text/x-python",
   "name": "python",
   "nbconvert_exporter": "python",
   "pygments_lexer": "ipython3",
   "version": "3.12.3"
  }
 },
 "nbformat": 4,
 "nbformat_minor": 4
}
